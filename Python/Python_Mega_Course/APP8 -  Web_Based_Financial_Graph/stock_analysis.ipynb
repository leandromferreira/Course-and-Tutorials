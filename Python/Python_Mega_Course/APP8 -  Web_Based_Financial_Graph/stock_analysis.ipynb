{
 "cells": [
  {
   "cell_type": "code",
   "execution_count": 54,
   "metadata": {
    "scrolled": true
   },
   "outputs": [
    {
     "name": "stderr",
     "output_type": "stream",
     "text": [
      "c:\\users\\a.maznov\\appdata\\local\\programs\\python\\python36-32\\lib\\site-packages\\pandas_datareader\\google\\daily.py:40: UnstableAPIWarning: \n",
      "The Google Finance API has not been stable since late 2017. Requests seem\n",
      "to fail at random. Failure is especially common when bulk downloading.\n",
      "\n",
      "  warnings.warn(UNSTABLE_WARNING, UnstableAPIWarning)\n"
     ]
    }
   ],
   "source": [
    "from pandas_datareader import data\n",
    "import datetime\n",
    "from bokeh.plotting import figure, show, output_file\n",
    "from bokeh.embed import components\n",
    "from bokeh.resources import CDN\n",
    "\n",
    "start = datetime.datetime(2017,1,1)\n",
    "end = datetime.datetime(2018,1,1)\n",
    "df = data.DataReader(name=\"AAPL\", data_source=\"google\", start=start, end=end)\n",
    "\n",
    "def inc_def(c, o):\n",
    "    if c > o:\n",
    "        value = \"Increase\"\n",
    "    elif c < o:\n",
    "        value = \"Decrease\"\n",
    "    else:\n",
    "        value = \"Equal\"\n",
    "    return value\n",
    "\n",
    "df[\"Status\"] = [inc_def(c, o) for c, o in zip(df.Close, df.Open)]\n",
    "df[\"Middle\"] = (df.Open+df.Close)/2\n",
    "df[\"Height\"] = abs(df.Open - df.Close)\n",
    "\n",
    "p = figure(x_axis_type='datetime', width=1000, height=300, responsive=True)\n",
    "p.title.text = \"Candelstick chart\"\n",
    "p.grid.grid_line_alpha = 0.5\n",
    "\n",
    "hours_12 = 12*60*60*1000\n",
    "\n",
    "p.segment(df.index, df.High, df.index, df.Low)\n",
    "p.rect(df.index[df.Status == \"Increase\"], df.Middle[df.Status == \"Increase\"], hours_12, df.Height[df.Status == \"Increase\"], \n",
    "       fill_color=\"#C6FFB3\", line_color=\"black\")\n",
    "p.rect(df.index[df.Status == \"Decrease\"], df.Middle[df.Status == \"Decrease\"], hours_12, df.Height[df.Status == \"Decrease\"], \n",
    "       fill_color=\"#FF3333\", line_color=\"black\")\n",
    "\n",
    "script1, div1 = components(p)\n",
    "cdn_js = CDN.js_files\n",
    "cdn_css = CDN.css_files\n",
    "\n",
    "# output_file(\"cs.html\")\n",
    "# show(p)"
   ]
  },
  {
   "cell_type": "code",
   "execution_count": 56,
   "metadata": {},
   "outputs": [
    {
     "data": {
      "text/plain": [
       "['https://cdn.pydata.org/bokeh/release/bokeh-0.12.5.min.css',\n",
       " 'https://cdn.pydata.org/bokeh/release/bokeh-widgets-0.12.5.min.css']"
      ]
     },
     "execution_count": 56,
     "metadata": {},
     "output_type": "execute_result"
    }
   ],
   "source": [
    "cdn_css"
   ]
  },
  {
   "cell_type": "code",
   "execution_count": null,
   "metadata": {},
   "outputs": [],
   "source": []
  }
 ],
 "metadata": {
  "kernelspec": {
   "display_name": "Python 3",
   "language": "python",
   "name": "python3"
  },
  "language_info": {
   "codemirror_mode": {
    "name": "ipython",
    "version": 3
   },
   "file_extension": ".py",
   "mimetype": "text/x-python",
   "name": "python",
   "nbconvert_exporter": "python",
   "pygments_lexer": "ipython3",
   "version": "3.6.4"
  }
 },
 "nbformat": 4,
 "nbformat_minor": 2
}
